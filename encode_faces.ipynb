{
 "cells": [
  {
   "cell_type": "code",
   "execution_count": 1,
   "metadata": {},
   "outputs": [],
   "source": [
    "from imutils import paths\n",
    "import imutils\n",
    "import face_recognition\n",
    "import pickle\n",
    "import cv2\n",
    "import os"
   ]
  },
  {
   "cell_type": "code",
   "execution_count": 2,
   "metadata": {},
   "outputs": [],
   "source": [
    "# Sacamos los paths para las imágenes con ayuda de imutils\n",
    "imagePaths = list(paths.list_images(\"./dataset\"))"
   ]
  },
  {
   "cell_type": "code",
   "execution_count": 3,
   "metadata": {},
   "outputs": [],
   "source": [
    "# Variables donde guardaremos nuestros rostros parametrizados y nombres \n",
    "knownEncodings = []\n",
    "knownNames = []"
   ]
  },
  {
   "cell_type": "code",
   "execution_count": 4,
   "metadata": {},
   "outputs": [],
   "source": [
    "# Para cada  imagen \n",
    "for (i, imagePath) in enumerate(imagePaths):\n",
    "    # Sacamos el nombre de la persona, a partir del nombre de la \n",
    "    # persona a partir de la carpeta en la que se encuentra\n",
    "    name = imagePath.split(os.path.sep)[-2]\n",
    "\n",
    "    # Leemos la imagen con Open cv\n",
    "    image = cv2.imread(imagePath)\n",
    "    # El formato de color de la imagen original es BGR pero la red neuronal\n",
    "    # de dlib utiliza el formato RGB por lo que cambiamos el formato con \n",
    "    # open cv\n",
    "    rgb = cv2.cvtColor(image, cv2.COLOR_BGR2RGB)\n",
    "    rgb = imutils.resize(rgb, width=750)\n",
    "    # Conseguimos las coordenadas de las caras detectadas en la imagen,\n",
    "    # utilizando la red neuronal convolucional \n",
    "    boxes = face_recognition.face_locations(rgb, model=\"cnn\")\n",
    "\n",
    "    # Cada cara detectada en la imagen se parametriza\n",
    "    encodings = face_recognition.face_encodings(rgb, boxes)\n",
    "\n",
    "    # Agrergamos cada uno de nuestras imagenes parametrizadas a nuestra lista \n",
    "    # y agregamos el nombre en una lista alterna pero en el móismo índice\n",
    "    for encoding in encodings:\n",
    "        knownEncodings.append(encoding)\n",
    "        knownNames.append(name)"
   ]
  },
  {
   "cell_type": "code",
   "execution_count": 5,
   "metadata": {},
   "outputs": [],
   "source": [
    "# Guardamos nuestros set de datos como un diccionario que contiene las \n",
    "# parametrizaciones y los nombres (equivalente a nuestro X y y)\n",
    "data = {\"encodings\": knownEncodings, \"names\": knownNames}\n",
    "f = open(\"encoded_faces.pickle\", \"wb\")\n",
    "f.write(pickle.dumps(data))\n",
    "f.close()"
   ]
  },
  {
   "cell_type": "code",
   "execution_count": null,
   "metadata": {},
   "outputs": [],
   "source": []
  }
 ],
 "metadata": {
  "kernelspec": {
   "display_name": "Python 3",
   "language": "python",
   "name": "python3"
  },
  "language_info": {
   "codemirror_mode": {
    "name": "ipython",
    "version": 3
   },
   "file_extension": ".py",
   "mimetype": "text/x-python",
   "name": "python",
   "nbconvert_exporter": "python",
   "pygments_lexer": "ipython3",
   "version": "3.6.6"
  }
 },
 "nbformat": 4,
 "nbformat_minor": 2
}
